{
 "cells": [
  {
   "cell_type": "markdown",
   "metadata": {},
   "source": [
    "Functional model with only time travel cost</br>\n",
    "231030"
   ]
  },
  {
   "cell_type": "code",
   "execution_count": 344,
   "metadata": {},
   "outputs": [],
   "source": [
    "from pyscipopt import Model, quicksum\n",
    "import numpy as np\n",
    "from itertools import product\n",
    "import json"
   ]
  },
  {
   "cell_type": "code",
   "execution_count": 345,
   "metadata": {},
   "outputs": [],
   "source": [
    "#Importing constant variables\n",
    "with open('./EVRP to LP/input_variables.json', 'r') as file:\n",
    "    input_variables = json.load(file)\n",
    "\n",
    "# print(input_variables[\"Ctt\"])"
   ]
  },
  {
   "cell_type": "code",
   "execution_count": 346,
   "metadata": {},
   "outputs": [],
   "source": [
    "def instanSacy(n_customers, n_vehicles, max_distance):\n",
    "    N = list(np.arange(n_customers+1)) #Set of customers\n",
    "    A = [(i,j) for i,j in product(N,N) if i!=j]\n",
    "    \n",
    "    # demand = {i:450 if i!=0 else 0 for i in N} #Demand per customer\n",
    "    demand = {i:int(np.random.randint(100, 300, 1)[0]) for i in N} #Demand per customer\n",
    "\n",
    "    M = list(np.arange(1,n_vehicles+1)) #Set of vehicles\n",
    "\n",
    "    load_capacity = {m:input_variables[\"Qm\"] for m in M} #Load_capacity per vehicle\n",
    "    \n",
    "    #Time cost as a function of distance and avg. speed\n",
    "    distance =  {(i,j):int(np.random.randint(50, max_distance, 25)[0]) for i,j in A}\n",
    "    time_cost = {(i,j):round((distance[i,j] / input_variables[\"Avg_V\"]),2) for i,j in A}\n",
    "    # time_cost = {(i,j):int(np.random.randint(1, max_time_cost, 1)[0]) for i,j in A} #Travel time cost per arc\n",
    "\n",
    "    # energy_cost = {(i,j):int(np.random.randint(1, max_energy_cost, 1)[0]) for i,j in A if j>i} #Energy cost per arc\n",
    "    \n",
    "\n",
    "    return N, A, demand, M, load_capacity, time_cost, distance"
   ]
  },
  {
   "cell_type": "code",
   "execution_count": 347,
   "metadata": {},
   "outputs": [],
   "source": [
    "def sacystation(N, A, demand, M, load_capacity, time_cost):\n",
    "    \"\"\"transp -- model for solving the transportation problem\n",
    "    Parameters:\n",
    "        N - set of customers\n",
    "        A - set of arcs (i,j)\n",
    "        M - set of vehicles\n",
    "        energy_cost[i,j] - energy transportation cost on arc (i,j)\n",
    "        demand[i] - demand of customer i\n",
    "        load_capacity[m] - capacity of vehicle m\n",
    "        time_cost - Travel time per arc(i,j)\n",
    "\n",
    "    ==================================\n",
    "    Problems:\n",
    "    Time constraint not respecting number of cars \n",
    "    \"\"\"\n",
    "    \n",
    "    model = Model(\"sacystation\")\n",
    "\n",
    "    #Binary decision variable\n",
    "    x = {}\n",
    "    for (i,j,m) in [(i,j,m) for i,j in A for m in M]:\n",
    "        x[i,j,m] = model.addVar(vtype=\"B\", name=f\"x{(i,j,m)}\")\n",
    "        \n",
    "    #Load Variable\n",
    "    L = {}\n",
    "    for (i,j,m) in [(i,j,m) for i,j in A for m in M]:\n",
    "        L[i,j,m] = model.addVar(vtype=\"C\", name=f\"L{(i,j,m)}\")\n",
    "    \n",
    "    '''\n",
    "    Constraints the number of times that vehicle m\n",
    "    can leave or returns to the depot\n",
    "    '''\n",
    "    for m in M:\n",
    "        if len(N) > len(M):\n",
    "            model.addCons(quicksum(x[0,j,m] for j in N if j!= 0) >= 1)\n",
    "        else:\n",
    "            model.addCons(quicksum(x[0,j,m] for j in N if j!= 0) <= 1)\n",
    "                       \n",
    "    '''\n",
    "    Each customer is visited only once\n",
    "    '''        \n",
    "    for j in N:\n",
    "        if j!=0:\n",
    "            model.addCons(quicksum(x[0,j,m] for m in M) == 1)\n",
    "\n",
    "    '''\n",
    "    ACTS like a flow conservation constraint:\n",
    "    Enforces that the vehicle must return to the depot to load\n",
    "    the demand for the next vertex\n",
    "    '''\n",
    "    # for j in N:\n",
    "    #     model.addCons((quicksum(x[0,j,m] for m in M if j!= 0)) \n",
    "    #               == (quicksum(x[j,0,m] for m in M if j!= 0))) \n",
    "        \n",
    "    '''\n",
    "    Enforces that the vehicle must return to the depot from the\n",
    "    vertex which it delivered \n",
    "    '''    \n",
    "    for m in M:\n",
    "        for j in N:\n",
    "            if j!= 0:\n",
    "                model.addCons(x[0,j,m] == x[j,0,m])\n",
    "       \n",
    "    '''\n",
    "    Demand constraint\n",
    "    Vehicle departs with only demand[i] load, then returns to depot\n",
    "    '''\n",
    "    for m in M:\n",
    "        model.addCons(quicksum(L[0,j,m] for j in N if j!= 0) == demand[j] * x[0,j,m])\n",
    "        model.addCons(quicksum(L[j,0,m] for j in N if j!= 0) == 0)\n",
    "           \n",
    "    #Time limit constraint\n",
    "    for m in M:\n",
    "        model.addCons(quicksum(time_cost[i,j]*x[i,j,m] for i,j in A if i!=j) <= 8)\n",
    "    \n",
    "    # Objective - ONLY TRAVEL TIME  \n",
    "    travel_time_cost = quicksum(input_variables[\"Ctt\"]*time_cost[i,j]*x[i,j,m] for (i,j) in A for m in M)\n",
    "    model.setObjective(travel_time_cost, \"minimize\")\n",
    "\n",
    "    model.optimize()\n",
    "\n",
    "    model.data = x\n",
    "    \n",
    "    return model, travel_time_cost\n"
   ]
  },
  {
   "cell_type": "code",
   "execution_count": 348,
   "metadata": {},
   "outputs": [
    {
     "name": "stdout",
     "output_type": "stream",
     "text": [
      "Travel time =dict_values([0.0, 38.56, 38.56, 12.0, 12.0])\n",
      "time_cost={(0, 1): 2.41, (1, 0): 0.75}\n",
      "Total time cost=3.16\n",
      "distance={(0, 1): 193, (1, 0): 60}\n",
      "Optimal value: 50.56\n",
      "x(0, 1, 1) = 1.0\n",
      "x(1, 0, 1) = 1.0\n"
     ]
    }
   ],
   "source": [
    "if __name__ == \"__main__\":\n",
    "    N, A, demand, M, load_capacity, time_cost, distance = instanSacy(1,2,500)\n",
    "    model, travel_time_cost = sacystation(N, A, demand, M, load_capacity, time_cost)    \n",
    "    model.optimize()\n",
    "    \n",
    "    EPS = 1.e-6  # a small tolerance\n",
    "    x = model.data  # model.data contains the decision variables\n",
    "\n",
    "    # Time cost\n",
    "    # cost = sum(time_cost[i,j]*x[i,j,m] for i,j in A if i!=j)\n",
    "    # values = cost.terms.values()\n",
    "    # print(\"Total time:\", sum(values))\n",
    "    print(f'Travel time ={(travel_time_cost.terms.values())}')\n",
    "    print(f'{time_cost=}')\n",
    "    print(f'Total time cost={sum(time_cost.values())}')\n",
    "    print(f'{distance=}')\n",
    "    # print(N,M, sep='\\n')\n",
    "    \n",
    "    if model.getStatus() == \"optimal\":\n",
    "        print(\"Optimal value:\", model.getObjVal())\n",
    "    else:\n",
    "        print(\"Problem could not be solved to optimality\")      \n",
    "\n",
    "    for (i, j, m) in x:\n",
    "        if model.getVal(x[i, j, m]) > 0.5:\n",
    "            print(f\"x({i}, {j}, {m}) = {model.getVal(x[i, j, m])}\")\n",
    "        # else:\n",
    "        #     print(f\"x[{i}, {j}, {m}] = 0\")\n",
    "    \n"
   ]
  },
  {
   "cell_type": "code",
   "execution_count": 349,
   "metadata": {},
   "outputs": [
    {
     "name": "stdout",
     "output_type": "stream",
     "text": [
      "wrote problem to file D:\\DAY2DAY\\MESTRADO\\Codes\\SCIP\\LPs\\problem.lp\n"
     ]
    }
   ],
   "source": [
    "model.writeProblem(r\"D:\\DAY2DAY\\MESTRADO\\Codes\\SCIP\\LPs\\problem.lp\")\n",
    "model.freeProb()"
   ]
  },
  {
   "cell_type": "code",
   "execution_count": 350,
   "metadata": {},
   "outputs": [
    {
     "name": "stdout",
     "output_type": "stream",
     "text": [
      "[1, 2]\n",
      "[(1, 2), (2, 1)]\n",
      "[1]\n",
      "{(1, 2, 1): x(1, 2, 1), (2, 1, 1): x(2, 1, 1)}\n",
      "[0, 1, 2] <class 'list'>\n",
      "[(0, 0), (0, 1), (0, 2), (1, 0), (1, 1), (1, 2), (2, 0), (2, 1), (2, 2)]\n"
     ]
    }
   ],
   "source": [
    "model = Model(\"sacystation\")\n",
    "\n",
    "def instanSacy(n_customers, n_vehicles, max_time_cost):\n",
    "    N = list(np.arange(1,n_customers+1)) #Set of customers\n",
    "    A = [(i,j) for i,j in product(N,N) if i!=j]\n",
    "\n",
    "    demand = {i:450 if i!=0 else 0 for i in N} #Demand per customer\n",
    "    # demand = {i:int(np.random.randint(100, 300, 1)[0]) for i in A} #Demand per customer\n",
    "\n",
    "    M = list(np.arange(1,n_vehicles+1)) #Set of vehicles\n",
    "\n",
    "    load_capacity = {m:9073 for m in M}\n",
    "                    #{m:load_capacity for m in M} #Load_capacity per vehicle\n",
    "\n",
    "    # energy_cost = {(i,j):int(np.random.randint(1, max_energy_cost, 1)[0]) for i,j in A if j>i}#Energy cost per arc\n",
    "\n",
    "    time_cost = {(i,j):int(np.random.randint(1, max_time_cost, 1)[0]) for i,j in A}#Travel time cost per arc\n",
    "\n",
    "    return N, A, demand, M, load_capacity, time_cost\n",
    "\n",
    "N, A, demand, M, load_capacity, time_cost = instanSacy(2,1,6)\n",
    "\n",
    "model = Model(\"sacystation\")\n",
    "\n",
    "#Creating binary decision variable\n",
    "x = {}\n",
    "for (i,j,m) in [(i,j,m) for i,j in A for m in M ]:\n",
    "    x[i,j,m] = model.addVar(vtype=\"B\", name=f\"x{(i,j,m)}\")\n",
    "    \n",
    "# if (0,1) in x:\n",
    "#     print(True)\n",
    "# else:\n",
    "#     print(False)\n",
    "    \n",
    "print(N, A, M,x, sep='\\n')\n",
    "# still need to add the constraints\n",
    "#Restrics number of m leaving the depot\n",
    "for m in M:\n",
    "    model.addCons(quicksum(x[0,j,m] for j in N if (j,m) in x) == 1)\n",
    "    # model.addCons(quicksum(x[i,0,m] for i in N if (i,m) in x) == 1)\n",
    "D = N \n",
    "D.insert(0,0)\n",
    "print(D, type(D))\n",
    "print([(i,j) for i,j in product(D,D)])\n",
    "\n",
    "\n"
   ]
  }
 ],
 "metadata": {
  "kernelspec": {
   "display_name": "Python 3",
   "language": "python",
   "name": "python3"
  },
  "language_info": {
   "codemirror_mode": {
    "name": "ipython",
    "version": 3
   },
   "file_extension": ".py",
   "mimetype": "text/x-python",
   "name": "python",
   "nbconvert_exporter": "python",
   "pygments_lexer": "ipython3",
   "version": "3.10.11"
  }
 },
 "nbformat": 4,
 "nbformat_minor": 2
}
